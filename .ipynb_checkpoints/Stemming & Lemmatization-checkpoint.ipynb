{
 "cells": [
  {
   "cell_type": "code",
   "execution_count": 1,
   "metadata": {},
   "outputs": [],
   "source": [
    "paragraph = \"\"\"I have three visions for India. In 3000 years of our history, people from all over \n",
    "               the world have come and invaded us, captured our lands, conquered our minds. \n",
    "               From Alexander onwards, the Greeks, the Turks, the Moguls, the Portuguese, the British,\n",
    "               the French, the Dutch, all of them came and looted us, took over what was ours. \n",
    "               Yet we have not done this to any other nation. We have not conquered anyone. \n",
    "               We have not grabbed their land, their culture, \n",
    "               their history and tried to enforce our way of life on them. \n",
    "               Why? Because we respect the freedom of others.That is why my \n",
    "               first vision is that of freedom. I believe that India got its first vision of \n",
    "               this in 1857, when we started the War of Independence. It is this freedom that\n",
    "               we must protect and nurture and build on. If we are not free, no one will respect us.\n",
    "               My second vision for India’s development. For fifty years we have been a developing nation.\n",
    "               It is time we see ourselves as a developed nation. We are among the top 5 nations of the world\n",
    "               in terms of GDP. We have a 10 percent growth rate in most areas. Our poverty levels are falling.\n",
    "               Our achievements are being globally recognised today. Yet we lack the self-confidence to\n",
    "               see ourselves as a developed nation, self-reliant and self-assured. Isn’t this incorrect?\n",
    "               I have a third vision. India must stand up to the world. Because I believe that unless India \n",
    "               stands up to the world, no one will respect us. Only strength respects strength. We must be \n",
    "               strong not only as a military power but also as an economic power. Both must go hand-in-hand. \n",
    "               My good fortune was to have worked with three great minds. Dr. Vikram Sarabhai of the Dept. of \n",
    "               space, Professor Satish Dhawan, who succeeded him and Dr. Brahm Prakash, father of nuclear material.\n",
    "               I was lucky to have worked with all three of them closely and consider this the great opportunity of my life. \n",
    "               I see four milestones in my career\"\"\"\n",
    " "
   ]
  },
  {
   "cell_type": "markdown",
   "metadata": {},
   "source": [
    "# 1) Stemming"
   ]
  },
  {
   "cell_type": "code",
   "execution_count": 2,
   "metadata": {},
   "outputs": [],
   "source": [
    "import nltk\n",
    "from nltk.stem import PorterStemmer\n",
    "from nltk.corpus import stopwords"
   ]
  },
  {
   "cell_type": "code",
   "execution_count": 3,
   "metadata": {},
   "outputs": [],
   "source": [
    "sentences = nltk.sent_tokenize(paragraph)\n",
    "stemmer = PorterStemmer()"
   ]
  },
  {
   "cell_type": "code",
   "execution_count": 4,
   "metadata": {},
   "outputs": [],
   "source": [
    "for i in range(len(sentences)) :\n",
    "    words = nltk.word_tokenize(sentences[i])\n",
    "    words = [stemmer.stem(word) for word in words if word not in set(stopwords.words(\"english\"))]\n",
    "    sentences[i] = ' '.join(words)"
   ]
  },
  {
   "cell_type": "code",
   "execution_count": 5,
   "metadata": {
    "scrolled": true
   },
   "outputs": [
    {
     "name": "stdout",
     "output_type": "stream",
     "text": [
      "1   I three vision india .\n",
      "\n",
      "2   In 3000 year histori , peopl world come invad us , captur land , conquer mind .\n",
      "\n",
      "3   from alexand onward , greek , turk , mogul , portugues , british , french , dutch , came loot us , took .\n",
      "\n",
      "4   yet done nation .\n",
      "\n",
      "5   We conquer anyon .\n",
      "\n",
      "6   We grab land , cultur , histori tri enforc way life .\n",
      "\n",
      "7   whi ?\n",
      "\n",
      "8   becaus respect freedom others.that first vision freedom .\n",
      "\n",
      "9   I believ india got first vision 1857 , start war independ .\n",
      "\n",
      "10   It freedom must protect nurtur build .\n",
      "\n",
      "11   If free , one respect us .\n",
      "\n",
      "12   My second vision india ’ develop .\n",
      "\n",
      "13   for fifti year develop nation .\n",
      "\n",
      "14   It time see develop nation .\n",
      "\n",
      "15   We among top 5 nation world term gdp .\n",
      "\n",
      "16   We 10 percent growth rate area .\n",
      "\n",
      "17   our poverti level fall .\n",
      "\n",
      "18   our achiev global recognis today .\n",
      "\n",
      "19   yet lack self-confid see develop nation , self-reli self-assur .\n",
      "\n",
      "20   isn ’ incorrect ?\n",
      "\n",
      "21   I third vision .\n",
      "\n",
      "22   india must stand world .\n",
      "\n",
      "23   becaus I believ unless india stand world , one respect us .\n",
      "\n",
      "24   onli strength respect strength .\n",
      "\n",
      "25   We must strong militari power also econom power .\n",
      "\n",
      "26   both must go hand-in-hand .\n",
      "\n",
      "27   My good fortun work three great mind .\n",
      "\n",
      "28   dr. vikram sarabhai dept .\n",
      "\n",
      "29   space , professor satish dhawan , succeed dr. brahm prakash , father nuclear materi .\n",
      "\n",
      "30   I lucki work three close consid great opportun life .\n",
      "\n",
      "31   I see four mileston career\n",
      "\n"
     ]
    }
   ],
   "source": [
    "for i,sen in enumerate(sentences) :\n",
    "    print(i+1,\" \",sen)\n",
    "    print()"
   ]
  },
  {
   "cell_type": "code",
   "execution_count": null,
   "metadata": {},
   "outputs": [],
   "source": []
  },
  {
   "cell_type": "markdown",
   "metadata": {},
   "source": [
    "# 2) Lemmatization"
   ]
  },
  {
   "cell_type": "code",
   "execution_count": 6,
   "metadata": {},
   "outputs": [],
   "source": [
    "import nltk\n",
    "from nltk.stem import WordNetLemmatizer\n",
    "from nltk.corpus import stopwords"
   ]
  },
  {
   "cell_type": "code",
   "execution_count": 7,
   "metadata": {},
   "outputs": [],
   "source": [
    "sentences = nltk.sent_tokenize(paragraph)\n",
    "lemmatizer = WordNetLemmatizer()"
   ]
  },
  {
   "cell_type": "code",
   "execution_count": 8,
   "metadata": {},
   "outputs": [],
   "source": [
    "for i in range(len(sentences)) :\n",
    "    words = nltk.word_tokenize(sentences[i])\n",
    "    words = [lemmatizer.lemmatize(word) for word in words if word not in set(stopwords.words(\"english\"))]\n",
    "    sentences[i] = ' '.join(words)"
   ]
  },
  {
   "cell_type": "code",
   "execution_count": 9,
   "metadata": {
    "scrolled": true
   },
   "outputs": [
    {
     "name": "stdout",
     "output_type": "stream",
     "text": [
      "1   I three vision India .\n",
      "\n",
      "2   In 3000 year history , people world come invaded u , captured land , conquered mind .\n",
      "\n",
      "3   From Alexander onwards , Greeks , Turks , Moguls , Portuguese , British , French , Dutch , came looted u , took .\n",
      "\n",
      "4   Yet done nation .\n",
      "\n",
      "5   We conquered anyone .\n",
      "\n",
      "6   We grabbed land , culture , history tried enforce way life .\n",
      "\n",
      "7   Why ?\n",
      "\n",
      "8   Because respect freedom others.That first vision freedom .\n",
      "\n",
      "9   I believe India got first vision 1857 , started War Independence .\n",
      "\n",
      "10   It freedom must protect nurture build .\n",
      "\n",
      "11   If free , one respect u .\n",
      "\n",
      "12   My second vision India ’ development .\n",
      "\n",
      "13   For fifty year developing nation .\n",
      "\n",
      "14   It time see developed nation .\n",
      "\n",
      "15   We among top 5 nation world term GDP .\n",
      "\n",
      "16   We 10 percent growth rate area .\n",
      "\n",
      "17   Our poverty level falling .\n",
      "\n",
      "18   Our achievement globally recognised today .\n",
      "\n",
      "19   Yet lack self-confidence see developed nation , self-reliant self-assured .\n",
      "\n",
      "20   Isn ’ incorrect ?\n",
      "\n",
      "21   I third vision .\n",
      "\n",
      "22   India must stand world .\n",
      "\n",
      "23   Because I believe unless India stand world , one respect u .\n",
      "\n",
      "24   Only strength respect strength .\n",
      "\n",
      "25   We must strong military power also economic power .\n",
      "\n",
      "26   Both must go hand-in-hand .\n",
      "\n",
      "27   My good fortune worked three great mind .\n",
      "\n",
      "28   Dr. Vikram Sarabhai Dept .\n",
      "\n",
      "29   space , Professor Satish Dhawan , succeeded Dr. Brahm Prakash , father nuclear material .\n",
      "\n",
      "30   I lucky worked three closely consider great opportunity life .\n",
      "\n",
      "31   I see four milestone career\n",
      "\n"
     ]
    }
   ],
   "source": [
    "for i,sen in enumerate(sentences) :\n",
    "    print(i+1,\" \",sen)\n",
    "    print()"
   ]
  },
  {
   "cell_type": "code",
   "execution_count": null,
   "metadata": {},
   "outputs": [],
   "source": []
  }
 ],
 "metadata": {
  "kernelspec": {
   "display_name": "Python 3",
   "language": "python",
   "name": "python3"
  },
  "language_info": {
   "codemirror_mode": {
    "name": "ipython",
    "version": 3
   },
   "file_extension": ".py",
   "mimetype": "text/x-python",
   "name": "python",
   "nbconvert_exporter": "python",
   "pygments_lexer": "ipython3",
   "version": "3.8.5"
  }
 },
 "nbformat": 4,
 "nbformat_minor": 4
}
